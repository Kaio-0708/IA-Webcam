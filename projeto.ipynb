{
 "cells": [
  {
   "cell_type": "markdown",
   "metadata": {},
   "source": [
    "# Python"
   ]
  },
  {
   "cell_type": "markdown",
   "metadata": {},
   "source": [
    "#### Bibliotecas\n",
    "\n",
    "- Opencv-Python\n",
    "- mediapipe\n",
    "- cvzone"
   ]
  },
  {
   "cell_type": "code",
   "execution_count": 3,
   "metadata": {},
